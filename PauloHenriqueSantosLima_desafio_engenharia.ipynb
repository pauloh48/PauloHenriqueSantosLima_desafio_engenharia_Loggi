{
  "nbformat": 4,
  "nbformat_minor": 0,
  "metadata": {
    "colab": {
      "name": "PauloHenriqueSantosLima_desafio_engenharia.ipynb",
      "provenance": [],
      "collapsed_sections": [
        "1QeTHz2Bjdhj",
        "BWOsOoomlUNG"
      ]
    },
    "kernelspec": {
      "name": "python3",
      "display_name": "Python 3"
    },
    "language_info": {
      "name": "python"
    }
  },
  "cells": [
    {
      "cell_type": "markdown",
      "source": [
        "* **Nome:** Paulo Henrique Santos Lima\n",
        "* **Universidade:** Universidade Federal de Goiás\n",
        "* **Curso:** Ciência da computação\n",
        "* **Semestre atual:** 10\n",
        "* **Previsão de formação:** 2023/2 \n",
        " \n",
        "## **IDEIA BASE**\n",
        "1. Criar uma estrutura que ligue o **nome do pacote** com o **código**, como **vetores** por exemplo, neste desafio se usou **dicionário**;\n",
        "2. Quebrar o código em **trincas**, comparar com **restrições** e realizar resolução do questionário.\n",
        " \n",
        "#### **As questões**\n",
        "Todas as questões estão reunidas em um único arquivo chamado \"PauloHenriqueSantosLima_desafio_engenharia.ipynb\".\n",
        " \n",
        "As questões do desafio foram desenvolvidas na linguagem Python, para cada uma tem os seguintes tópicos:\n",
        "* Ideia da lógica de como chegar ao resultado;\n",
        "* Breve descrição da estrutura do código;\n",
        "* Quais questões são necessárias para executar a questão a ser executada. \n",
        " \n",
        "#### **Requisitos**\n",
        "* Importe o arquivo \"PauloHenriqueSantosLima_desafio_engenharia.ipynb\" para um programa que execute arquivos do tipo \".ipynb\", uma sugestão de uso é o Google Colab (colab.research.google.com/) que pode ser executado pelo navegador;\n",
        "* Python 3."
      ],
      "metadata": {
        "id": "H4CMEOvINBm3"
      }
    },
    {
      "cell_type": "markdown",
      "source": [
        "## **0.** Dicionários Pacotes\n",
        "* Para cada pacote se associa seu respectivo código."
      ],
      "metadata": {
        "id": "Rk-G4lU_ppHj"
      }
    },
    {
      "cell_type": "code",
      "source": [
        "regiao = {\"Centro-Oeste\":0,\n",
        "          \"Nordeste\": 0, \n",
        "          \"Norte\":0, \n",
        "          \"Sudeste\": 0,\n",
        "          \"Sul\":0,\n",
        "          \"Região Invalida\": 0}\n",
        "\n",
        "# nome do pacote com seu respectivo código\n",
        "pacotes = {\"Pacote 1\": \"288355555123888\", \n",
        "           \"Pacote 2\": \"335333555584333\", \n",
        "           \"Pacote 3\": \"223343555124001\",\n",
        "           \"Pacote 4\": \"002111555874555\", \n",
        "           \"Pacote 5\": \"111188555654777\", \n",
        "           \"Pacote 6\": \"111333555123333\", \n",
        "           \"Pacote 7\": \"432055555123888\", \n",
        "           \"Pacote 8\": \"079333555584333\", \n",
        "           \"Pacote 9\": \"155333555124001\", \n",
        "           \"Pacote 10\": \"333188555584333\", \n",
        "           \"Pacote 11\": \"555288555123001\", \n",
        "           \"Pacote 12\": \"111388555123555\", \n",
        "           \"Pacote 13\": \"288000555367333\", \n",
        "           \"Pacote 14\": \"066311555874001\", \n",
        "           \"Pacote 15\": \"110333555123555\", \n",
        "           \"Pacote 16\": \"333488555584333\", \n",
        "           \"Pacote 17\": \"455448555123001\", \n",
        "           \"Pacote 18\": \"022388555123555\", \n",
        "           \"Pacote 19\": \"432044555845333\", \n",
        "           \"Pacote 20\": \"034311555874001\"}"
      ],
      "metadata": {
        "id": "gSBj78SQNEgL"
      },
      "execution_count": 97,
      "outputs": []
    },
    {
      "cell_type": "markdown",
      "source": [
        "## **1.** Identificar a região de destino de cada pacote, com totalização de pacotes (soma região);\n",
        "**ideia:**  Quebrar o código de cada pacote em uma trinca, tal que essa seja a trinca de destino [3:6]. Em seguida, compara se essa trinca está em algum intervalo de alguma região de destino, se sim imprime dados da região e incrementa o contador daquela região que será sua soma, se não imprime erro e incrementa o contador do erro que representa a soma das regiões com destino inválido.\n",
        " \n",
        "####**Estrutura programa**  \n",
        "1.  Para cada pacote se faz a comparação da segunda trinca, destino, com o intervalo de destino do pacote, se for um destino válido imprime dados e incrementa o contador de soma da região, se for um destino inválido se incrementa o contador de região inválida e imprime destino inválido;\n",
        "2.  Imprime a região com sua respectiva soma;\n",
        "3.  Zera soma das regiões para que não some o mesmo valor na região caso execute o programa.\n",
        " \n",
        "**Para executar este bloco** corretamente é necessário executar os seguintes blocos antes:\n",
        "* 0. Dicionários Pacotes."
      ],
      "metadata": {
        "id": "h8GEDY3qK3fm"
      }
    },
    {
      "cell_type": "code",
      "source": [
        "# 1. compara e incrementa\n",
        "print(\"REGIÃO DE DESTINO POR PACOTE\")\n",
        "for chave in pacotes.keys():\n",
        "  i = 3\n",
        "  j = 6\n",
        "  if(int(pacotes[chave][i:j])>=201 and int(pacotes[chave][i:j])<=299):\n",
        "    print(\"Região de destino {}: Cidade {}, região Centro-oeste\" .format(str(chave), pacotes[chave][i:j]))\n",
        "    regiao[\"Centro-Oeste\"] = regiao[\"Centro-Oeste\"]+1\n",
        "  elif(int(pacotes[chave][i:j])>=300 and int(pacotes[chave][i:j])<=399):\n",
        "    print(\"Região de destino {}: Cidade {}, região Nordeste\" .format(str(chave), pacotes[chave][i:j]))\n",
        "    regiao[\"Nordeste\"] = regiao[\"Nordeste\"]+1\n",
        "  elif(int(pacotes[chave][i:j])>=400 and int(pacotes[chave][i:j])<=499):\n",
        "    print(\"Região de destino {}: Cidade {}, região Norte\" .format(str(chave), pacotes[chave][i:j]))\n",
        "    regiao[\"Norte\"] = regiao[\"Norte\"]+1\n",
        "  elif(int(pacotes[chave][i:j])>=1 and int(pacotes[chave][i:j])<=99):\n",
        "    print(\"Região de destino {}: Cidade {}, região Sudeste\" .format(str(chave), pacotes[chave][i:j]))\n",
        "    regiao[\"Sudeste\"] = regiao[\"Sudeste\"]+1\n",
        "  elif(int(pacotes[chave][i:j])>=100 and int(pacotes[chave][i:j])<=199):\n",
        "    print(\"Região de destino {}: Cidade {}, região Sul\" .format(str(chave), pacotes[chave][i:j]))\n",
        "    regiao[\"Sul\"] = regiao[\"Sul\"]+1\n",
        "  else:\n",
        "    print(\"Região de destino {}: Cidade {} - região Inválida\" .format(str(chave), pacotes[chave][i:j]))\n",
        "    regiao[\"Região Invalida\"] = regiao[\"Região Invalida\"]+1\n",
        "\n",
        "# 2. imprime soma regiões \n",
        "print(\"\\nSOMA DE PACOTES POR REGIÃO\")\n",
        "for chave, valor in regiao.items():\n",
        "    print(\"{} = {}\" .format(chave, valor))\n",
        "\n",
        "# 3. zera soma das regiões\n",
        "for key, value in regiao.items():\n",
        "  regiao[key] = 0"
      ],
      "metadata": {
        "colab": {
          "base_uri": "https://localhost:8080/"
        },
        "id": "RGSaFx2SRKJW",
        "outputId": "5c0a22e0-dc8a-4084-dce4-785defc21794"
      },
      "execution_count": 98,
      "outputs": [
        {
          "output_type": "stream",
          "name": "stdout",
          "text": [
            "REGIÃO DE DESTINO POR PACOTE\n",
            "Região de destino Pacote 1: Cidade 355, região Nordeste\n",
            "Região de destino Pacote 2: Cidade 333, região Nordeste\n",
            "Região de destino Pacote 3: Cidade 343, região Nordeste\n",
            "Região de destino Pacote 4: Cidade 111, região Sul\n",
            "Região de destino Pacote 5: Cidade 188, região Sul\n",
            "Região de destino Pacote 6: Cidade 333, região Nordeste\n",
            "Região de destino Pacote 7: Cidade 055, região Sudeste\n",
            "Região de destino Pacote 8: Cidade 333, região Nordeste\n",
            "Região de destino Pacote 9: Cidade 333, região Nordeste\n",
            "Região de destino Pacote 10: Cidade 188, região Sul\n",
            "Região de destino Pacote 11: Cidade 288, região Centro-oeste\n",
            "Região de destino Pacote 12: Cidade 388, região Nordeste\n",
            "Região de destino Pacote 13: Cidade 000 - região Inválida\n",
            "Região de destino Pacote 14: Cidade 311, região Nordeste\n",
            "Região de destino Pacote 15: Cidade 333, região Nordeste\n",
            "Região de destino Pacote 16: Cidade 488, região Norte\n",
            "Região de destino Pacote 17: Cidade 448, região Norte\n",
            "Região de destino Pacote 18: Cidade 388, região Nordeste\n",
            "Região de destino Pacote 19: Cidade 044, região Sudeste\n",
            "Região de destino Pacote 20: Cidade 311, região Nordeste\n",
            "\n",
            "SOMA DE PACOTES POR REGIÃO\n",
            "Centro-Oeste = 1\n",
            "Nordeste = 11\n",
            "Norte = 2\n",
            "Sudeste = 2\n",
            "Sul = 3\n",
            "Região Invalida = 1\n"
          ]
        }
      ]
    },
    {
      "cell_type": "markdown",
      "source": [
        "## **2.** Saber quais pacotes possuem códigos de barras válidos e/ou inválidos;\n",
        " \n",
        "#### **Critérios**\n",
        "1. A Loggi não envia produtos que não sejam dos tipos acima informados;\n",
        "2. Não é possível despachar pacotes contendo jóias tendo como região de\n",
        "origem o Centro-oeste;\n",
        "3. O vendedor 367 está com seu CNPJ inativo e, portanto, não pode mais\n",
        "enviar pacotes pela Loggi, os códigos de barra que estiverem relacionados\n",
        "a este vendedor devem ser considerados inválidos;\n",
        "4. O código do produto deve ser válido.\n",
        " \n",
        "**ideia:**  Armazenar em 2 listas se um pacote possui código válido ou não. Para isso testa uma condição envolvendo todas as restrições, se algum pacote testar verdadeiro para alguma restrição, este pacote é armazenado na lista de código invalido, mas se algum pacote testar falso para todas as restrições, então ele vai para a lista de pacotes válidos.\n",
        "\n",
        "####**Estrutura programa** \n",
        "1.  Cria 2 listas e usando um laço testa com uma condição para todas as restrições, se alguma restrição for verdadeira, armazena na lista de invalido o pacote que sinalizou, caso contrário armazena na lista de válidos;\n",
        "2.  imprime os pacotes com códigos válidos e em seguida os inválidos.\n",
        " \n",
        "**Para executar este bloco** corretamente é necessário executar os seguintes blocos antes:\n",
        "* 0. Dicionários Pacotes.\n",
        "\n"
      ],
      "metadata": {
        "id": "6ACaQaRaULzI"
      }
    },
    {
      "cell_type": "code",
      "source": [
        "# 1. cria 2 listas\n",
        "valido = []\n",
        "invalido = []\n",
        "\n",
        "# 1. compara restrições\n",
        "for chave in pacotes.keys():\n",
        "  if( (len(pacotes[chave]) != 15) \n",
        "      or  ( (int(pacotes[chave][12:15]) == 1) and \n",
        "          (int(pacotes[chave][0:3])>=201 and int(pacotes[chave][0:3])<=299) ) \n",
        "      or  (int(pacotes[chave][9:12]) == 367) \n",
        "      or  (int(pacotes[chave][12:15]) != 1 and int(pacotes[chave][12:15]) != 111 and\n",
        "           int(pacotes[chave][12:15]) != 333 and int(pacotes[chave][12:15]) != 555 and\n",
        "           int(pacotes[chave][12:15]) != 888) ):\n",
        "    invalido.append(chave)\n",
        "  else:\n",
        "    valido.append(chave)\n",
        "\n",
        "# 2. imprime pacotes \n",
        "print(\"CÓDIGOS VÁLIDOS\")\n",
        "for val in valido:\n",
        "    print(val)\n",
        "print(\"\\nCÓDIGOS INVÁLIDOS\")\n",
        "for inval in invalido:\n",
        "    print(inval)\n"
      ],
      "metadata": {
        "colab": {
          "base_uri": "https://localhost:8080/"
        },
        "id": "f8YCCM_HULUR",
        "outputId": "6701dc2b-6a85-48a0-b5ab-1203c322d3bc"
      },
      "execution_count": 99,
      "outputs": [
        {
          "output_type": "stream",
          "name": "stdout",
          "text": [
            "CÓDIGOS VÁLIDOS\n",
            "Pacote 1\n",
            "Pacote 2\n",
            "Pacote 4\n",
            "Pacote 6\n",
            "Pacote 7\n",
            "Pacote 8\n",
            "Pacote 9\n",
            "Pacote 10\n",
            "Pacote 11\n",
            "Pacote 12\n",
            "Pacote 14\n",
            "Pacote 15\n",
            "Pacote 16\n",
            "Pacote 17\n",
            "Pacote 18\n",
            "Pacote 19\n",
            "Pacote 20\n",
            "\n",
            "CÓDIGOS INVÁLIDOS\n",
            "Pacote 3\n",
            "Pacote 5\n",
            "Pacote 13\n"
          ]
        }
      ]
    },
    {
      "cell_type": "markdown",
      "source": [
        "## **3.** Identificar os pacotes que têm como origem a região Sul e Brinquedos em seu conteúdo;\n",
        "\n",
        "**ideia:** Comparar se a primeira trinca, de origem [0:3], está no intervalo da região sul e verificar se trinca de produto [12:15] é igual ao código de brinquedos.\n",
        "\n",
        "####**Estrutura programa** \n",
        "1.  Com um laço, se testa se produto é válido e se a trinca [0:3] está no intervalo da região sul e se a trinca final [12:15] é igual brinquedo, se sim imprime dados do pacote e incrementa a flag;\n",
        "2.  Caso nenhum produto passe na condicional, então a flag é ativada e imprime mensagem de zero pacotes.\n",
        "\n",
        "**Para executar este bloco** corretamente é necessário executar os seguintes blocos antes:\n",
        "* 0. Dicionários Pacotes;\n",
        "* 2. Saber quais pacotes possuem códigos de barras válidos e/ou inválidos."
      ],
      "metadata": {
        "id": "70d8N1f7fJ-L"
      }
    },
    {
      "cell_type": "code",
      "source": [
        "# 1. verifica se pacote é valido, se é do sul e brinquedo\n",
        "print(\"PACOTES COM BRINQUEDOS E COM ORIGEM NO SUL\")\n",
        "flag = 0\n",
        "for chave in pacotes.keys():\n",
        "  if(chave in valido):\n",
        "    if((int(pacotes[chave][0:3])>=100 and int(pacotes[chave][0:3])<=199) and int(pacotes[chave][12:15]) == 888):\n",
        "      print(\"{}: com origem na Cidade {}\" .format(str(chave), pacotes[chave][0:3]))\n",
        "      flag +=1\n",
        "\n",
        "# 2. ativa flag se não houver pacotes\n",
        "if(flag==0):\n",
        "  print(\"Zero Pacotes\")"
      ],
      "metadata": {
        "colab": {
          "base_uri": "https://localhost:8080/"
        },
        "id": "C-0ssN3NZjz1",
        "outputId": "1f693921-f6b8-4c97-e748-2f92374bd93a"
      },
      "execution_count": 100,
      "outputs": [
        {
          "output_type": "stream",
          "name": "stdout",
          "text": [
            "PACOTES COM BRINQUEDOS E COM ORIGEM NO SUL\n",
            "Zero Pacotes\n"
          ]
        }
      ]
    },
    {
      "cell_type": "markdown",
      "source": [
        "## **4.** Listar os pacotes agrupados por região de destino (Considere apenas pacotes válidos);\n",
        " \n",
        "**ideia**: Criar uma estrutura auxiliar que receba os dados da estrutura pacotes, para que essa não seja alterada. Em seguida se quebra o código dos pacotes dessa estrutura auxiliar em 2 partes (parte 1 sendo a trinca origem [0:3] e a parte 2 sendo o resto do código do pacote [3:15]), jogando a parte 1 no final da parte 2, assim se organiza os códigos deixando o destino na trinca inicial; em seguida se ordena os pacotes de acordo com esse novo código, pois assim se agrupa por região de destino; em seguida se une as 2 partes ao seu estado original jogando a parte final (neste caso a trinca de origem) [12:15:] no começo da parte 1 [0:12] (restante do código). Para trabalhar apenas com pacotes válidos se usa a lista da questão \"2. Saber quais pacotes possuem códigos de barras válidos e/ou inválidos;\" e comparar se o pacote está na lista e se estiver o armazena na estrutura auxiliar.\n",
        " \n",
        "####**Estrutura programa** \n",
        "1.  Quebra o código do pacote em 2 partes, jogando a primeira trinca (origem [0:3]) para o final da segunda parte (restante código pacote [3:15]);\n",
        "2.  Com o novo código gerado, o que começa com o destino, se ordena, assim fica agrupado por região;\n",
        "3.  Com a nova ordenação da estrutura, se une as 2 partes ao estado original jogando a parte final (origem [12:15]) no começo da parte 1 (restante código pacote [0:12]);\n",
        "4. Imprime a estrutura que foi agrupada por região comparando o intervalo da região com a trinca destino [3:6].\n",
        "\n",
        "**Para executar este bloco** corretamente é necessário executar os seguintes blocos antes:\n",
        "* 0. Dicionários Pacotes;\n",
        "* 2. Saber quais pacotes possuem códigos de barras válidos e/ou inválidos."
      ],
      "metadata": {
        "id": "UA34s0xribu3"
      }
    },
    {
      "cell_type": "code",
      "source": [
        "from collections import OrderedDict\n",
        "#cria dicionario pacAux que não referencia mesmo endereco que dicionario pacotes\n",
        "pacAux = dict(pacotes)\n",
        "\n",
        "# 1. quebra codigo do pacote em 2 partes\n",
        "for chave in pacAux.keys():\n",
        "  if(chave in valido):\n",
        "    pacAux[chave] = pacAux[chave][3:15]+pacAux[chave][0:3]\n",
        "    #print(pac[chave])\n",
        "\n",
        "# 2. ordena de acordo com destino\n",
        "pacAux = OrderedDict(sorted(pacAux.items(), key=lambda x: x[1]))\n",
        "\n",
        "# 3. une as 2 partes ao estado original\n",
        "for chave in pacAux.keys():\n",
        "  if(chave in valido):\n",
        "    pacAux[chave] = pacAux[chave][12:15]+pacAux[chave][0:12]\n",
        "    #print(pac[chave])\n",
        "\n",
        "# 4. agrupado e imprime\n",
        "for chave in pacAux.keys():\n",
        "  if(chave in valido):\n",
        "    if(int(pacAux[chave][3:6])>=201 and int(pacAux[chave][3:6])<=299):\n",
        "      print(\"{}: com destino na Cidade {}, região Centro-Oeste   \" .format(str(chave), pacAux[chave][3:6]))\n",
        "    elif(int(pacAux[chave][3:6])>=300 and int(pacAux[chave][3:6])<=399):\n",
        "      print(\"{}: com destino na Cidade {}, região Nordeste       \" .format(str(chave), pacAux[chave][3:6]))\n",
        "    elif(int(pacAux[chave][3:6])>=400 and int(pacAux[chave][3:6])<=499):\n",
        "      print(\"{}: com destino na Cidade {}, região Norte          \" .format(str(chave), pacAux[chave][3:6]))\n",
        "    elif(int(pacAux[chave][3:6])>=1 and int(pacAux[chave][3:6])<=99):\n",
        "      print(\"{}: com destino na Cidade {}, região Sudeste        \" .format(str(chave), pacAux[chave][3:6]))\n",
        "    elif(int(pacAux[chave][3:6])>=100 and int(pacAux[chave][3:6])<=199):\n",
        "      print(\"{}: com destino na Cidade {}, região Sul            \" .format(str(chave), pacAux[chave][3:6]))\n",
        "pacAux.clear()"
      ],
      "metadata": {
        "colab": {
          "base_uri": "https://localhost:8080/"
        },
        "id": "XL6jk-knHGC0",
        "outputId": "06ec64c0-d679-492b-ac97-64263ce995ec"
      },
      "execution_count": 101,
      "outputs": [
        {
          "output_type": "stream",
          "name": "stdout",
          "text": [
            "Pacote 19: com destino na Cidade 044, região Sudeste        \n",
            "Pacote 7: com destino na Cidade 055, região Sudeste        \n",
            "Pacote 4: com destino na Cidade 111, região Sul            \n",
            "Pacote 10: com destino na Cidade 188, região Sul            \n",
            "Pacote 11: com destino na Cidade 288, região Centro-Oeste   \n",
            "Pacote 20: com destino na Cidade 311, região Nordeste       \n",
            "Pacote 14: com destino na Cidade 311, região Nordeste       \n",
            "Pacote 6: com destino na Cidade 333, região Nordeste       \n",
            "Pacote 15: com destino na Cidade 333, região Nordeste       \n",
            "Pacote 9: com destino na Cidade 333, região Nordeste       \n",
            "Pacote 8: com destino na Cidade 333, região Nordeste       \n",
            "Pacote 2: com destino na Cidade 333, região Nordeste       \n",
            "Pacote 1: com destino na Cidade 355, região Nordeste       \n",
            "Pacote 18: com destino na Cidade 388, região Nordeste       \n",
            "Pacote 12: com destino na Cidade 388, região Nordeste       \n",
            "Pacote 17: com destino na Cidade 448, região Norte          \n",
            "Pacote 16: com destino na Cidade 488, região Norte          \n"
          ]
        }
      ]
    },
    {
      "cell_type": "markdown",
      "source": [
        "## **5.** Listar o número de pacotes enviados por cada vendedor (Considere apenas pacotes válidos);\n",
        " \n",
        "**ideia**: Criar uma estrutura que armazene o vendedor e associa a este a quantidade de pacotes enviados. Para isso se copia cada vendedor válido pegando a trinca do código do vendedor [9:12] e associa o valor 0 a cada um, em seguida se incrementa na estrutura criada a cada pacote enviado por cada vendedor, até que não haja mais pacotes.\n",
        " \n",
        "####**Estrutura programa** \n",
        "1.  Criar um dicionário e armazenar nele o vendedor (válido) obtido pela trinca [9:12] e para cada vendedor, inicializar eles com o valor 0;\n",
        "2.  Conta a quantidade de pacotes enviados por cada vendedor através de um laço que incrementa 1 ao vendedor por pacote enviado, isso no dicionário criado;\n",
        "3.  Imprime o vendedor e a quantidade de unidades, se \"unidades\" for no singular há uma condição de como se deve imprimir.\n",
        " \n",
        "**Para executar este bloco** corretamente é necessário executar os seguintes blocos antes:\n",
        "* 0. Dicionários Pacotes;\n",
        "* 2. Saber quais pacotes possuem códigos de barras válidos e/ou inválidos."
      ],
      "metadata": {
        "id": "1QeTHz2Bjdhj"
      }
    },
    {
      "cell_type": "code",
      "source": [
        "dictVendedores = {}\n",
        "# 1. inicia dicionario vendedores e com 0\n",
        "for chave in pacotes.keys():\n",
        "    if(chave in valido):\n",
        "      dictVendedores[pacotes[chave][9:12]] = 0\n",
        "\n",
        "#2. conta pacotes enviados por cada vendedor\n",
        "for chave in pacotes.keys():\n",
        "    if(chave in valido):\n",
        "      dictVendedores[pacotes[chave][9:12]] += 1\n",
        "\n",
        "#3. Imprime o vendedor e unidades\n",
        "print(\"VENDEDOR | PACOTES ENVIADOS\")\n",
        "for chave in dictVendedores.keys():\n",
        "  if(dictVendedores[chave] >= 1):\n",
        "    print(\"  {} \\t     {} unidades\" .format(chave, dictVendedores[chave]))\n",
        "  else:\n",
        "    print(\"  {} \\t     {} unidade\" .format(chave, dictVendedores[chave]))\n",
        "  "
      ],
      "metadata": {
        "colab": {
          "base_uri": "https://localhost:8080/"
        },
        "id": "cYDuykiYjiIs",
        "outputId": "0da99bce-3c51-4ac5-c5b8-a99487cf0525"
      },
      "execution_count": 102,
      "outputs": [
        {
          "output_type": "stream",
          "name": "stdout",
          "text": [
            "VENDEDOR | PACOTES ENVIADOS\n",
            "  123 \t     8 unidades\n",
            "  584 \t     4 unidades\n",
            "  874 \t     3 unidades\n",
            "  124 \t     1 unidades\n",
            "  845 \t     1 unidades\n"
          ]
        }
      ]
    },
    {
      "cell_type": "markdown",
      "source": [
        "## **6.** Gerar o relatório/lista de pacotes por destino e por tipo (Considere apenas pacotes válidos);\n",
        "\n",
        "**ideia**: Se usa a questão \"4. Listar os pacotes agrupados por região de destino (Considere apenas pacotes válidos)\" como base, assim se agrupa por destino. No final se compara a trinca do produto [12:15] com os códigos dos produtos, se forem o mesmo, então imprime o nome do produto. \n",
        "\n",
        "####**Estrutura programa** \n",
        "1.  Quebra o código do pacote em 2 partes, jogando a primeira trinca (origem [0:3]) para o final da segunda parte (restante código pacote [3:15]);\n",
        "2.  Com o novo código gerado, o que começa com o destino, se ordena, assim fica agrupado por região;\n",
        "3.  Com a nova ordenação da estrutura, se une as 2 partes ao estado original jogando a parte final (origem [12:15]) no começo da parte 1 (restante código pacote [0:12]);\n",
        "4. Imprime a estrutura que foi agrupada por região comparando o intervalo da região com a trinca destino [3:6];\n",
        "5. Imprime o tipo de produto comparando o código do produto com a trinca produto [12:15].\n",
        "\n",
        "**Para executar este bloco** corretamente é necessário executar os seguintes blocos antes:\n",
        "* 0. Dicionários Pacotes;\n",
        "* 2. Saber quais pacotes possuem códigos de barras válidos e/ou inválidos."
      ],
      "metadata": {
        "id": "BWOsOoomlUNG"
      }
    },
    {
      "cell_type": "code",
      "source": [
        "from collections import OrderedDict\n",
        "#cria dicionario pacAux que não referencia mesmo endereco que dicionario pacotes\n",
        "pacAux = dict(pacotes)\n",
        "\n",
        "# 1. quebra codigo do pacote em 2 partes\n",
        "for chave in pacAux.keys():\n",
        "  if(chave in valido):\n",
        "    pacAux[chave] = pacAux[chave][3:15]+pacAux[chave][0:3]\n",
        "    #print(pacAux[chave])\n",
        "\n",
        "# 2. ordena de acordo com destino\n",
        "pacAux = OrderedDict(sorted(pacAux.items(), key=lambda x: x[1]))\n",
        "\n",
        "# 3. une as 2 partes ao estado original\n",
        "for chave in pacAux.keys():\n",
        "  if(chave in valido):\n",
        "    pacAux[chave] = pacAux[chave][12:15]+pacAux[chave][0:12]\n",
        "    #print(pacAux[chave])\n",
        "\n",
        "\n",
        "# 4. agrupado e imprime\n",
        "print(\"\\t\\t\\tRELATÓRIO\\n PACOTE \\t         DESTINO   \\t\\t      TIPO\")\n",
        "for chave in pacAux.keys():\n",
        "    if(chave in valido):\n",
        "      # Região destino\n",
        "      if(int(pacAux[chave][3:6])>=201 and int(pacAux[chave][3:6])<=299):\n",
        "        print(\"{}: \\t Cidade {}, região Centro-Oeste   \" .format(str(chave), pacAux[chave][3:6]), end =\" \")\n",
        "      elif(int(pacAux[chave][3:6])>=300 and int(pacAux[chave][3:6])<=399):\n",
        "        print(\"{}: \\t Cidade {}, região Nordeste       \" .format(str(chave), pacAux[chave][3:6]), end =\" \")\n",
        "      elif(int(pacAux[chave][3:6])>=400 and int(pacAux[chave][3:6])<=499):\n",
        "        print(\"{}: \\t Cidade {}, região Norte          \" .format(str(chave), pacAux[chave][3:6]), end =\" \")\n",
        "      elif(int(pacAux[chave][3:6])>=1 and int(pacAux[chave][3:6])<=99):\n",
        "        print(\"{}: \\t Cidade {}, região Sudeste        \" .format(str(chave), pacAux[chave][3:6]), end =\" \")\n",
        "      elif(int(pacAux[chave][3:6])>=100 and int(pacAux[chave][3:6])<=199):\n",
        "        print(\"{}: \\t Cidade {}, região Sul            \" .format(str(chave), pacAux[chave][3:6]), end =\" \")\n",
        "\n",
        "# 5. imprime tipo do produto      \n",
        "      # Tipo produto\n",
        "      if(int(pacAux[chave][12:15]) == 1): \n",
        "        print(\"Jóias\")\n",
        "      elif(int(pacAux[chave][12:15]) == 111): \n",
        "        print(\"Livros\")\n",
        "      elif(int(pacAux[chave][12:15]) == 333): \n",
        "        print(\"Eletrônicos\")\n",
        "      elif(int(pacAux[chave][12:15]) == 555): \n",
        "        print(\"Bebidas\")\n",
        "      elif(int(pacAux[chave][12:15]) == 888): \n",
        "        print(\"Brinquedos\")\n",
        "\n",
        "pacAux.clear()"
      ],
      "metadata": {
        "colab": {
          "base_uri": "https://localhost:8080/"
        },
        "outputId": "b5003e27-bb64-41de-def2-843d8e6d9b59",
        "id": "kb8JWIX03j04"
      },
      "execution_count": 103,
      "outputs": [
        {
          "output_type": "stream",
          "name": "stdout",
          "text": [
            "\t\t\tRELATÓRIO\n",
            " PACOTE \t         DESTINO   \t\t      TIPO\n",
            "Pacote 19: \t Cidade 044, região Sudeste         Eletrônicos\n",
            "Pacote 7: \t Cidade 055, região Sudeste         Brinquedos\n",
            "Pacote 4: \t Cidade 111, região Sul             Bebidas\n",
            "Pacote 10: \t Cidade 188, região Sul             Eletrônicos\n",
            "Pacote 11: \t Cidade 288, região Centro-Oeste    Jóias\n",
            "Pacote 20: \t Cidade 311, região Nordeste        Jóias\n",
            "Pacote 14: \t Cidade 311, região Nordeste        Jóias\n",
            "Pacote 6: \t Cidade 333, região Nordeste        Eletrônicos\n",
            "Pacote 15: \t Cidade 333, região Nordeste        Bebidas\n",
            "Pacote 9: \t Cidade 333, região Nordeste        Jóias\n",
            "Pacote 8: \t Cidade 333, região Nordeste        Eletrônicos\n",
            "Pacote 2: \t Cidade 333, região Nordeste        Eletrônicos\n",
            "Pacote 1: \t Cidade 355, região Nordeste        Brinquedos\n",
            "Pacote 18: \t Cidade 388, região Nordeste        Bebidas\n",
            "Pacote 12: \t Cidade 388, região Nordeste        Bebidas\n",
            "Pacote 17: \t Cidade 448, região Norte           Jóias\n",
            "Pacote 16: \t Cidade 488, região Norte           Eletrônicos\n"
          ]
        }
      ]
    },
    {
      "cell_type": "markdown",
      "source": [
        "## **7.** Se o transporte dos pacotes para o Norte passa pela Região Centro-Oeste, quais são os pacotes que devem ser despachados no mesmo caminhão?\n",
        " \n",
        "**ideia**:    Considerando apenas essas duas regiões, se deve despachar os pacotes com destino Norte e Centro-oeste. Para isso quebra em trinca de destino [3:6] e compara se o pacote é válido e se passa pela região centro-oeste ou norte através do intervalo de cada região.\n",
        " \n",
        "####**Estrutura programa** \n",
        "1.  Se usa parte do código da questão \"4. Listar os pacotes agrupados por região de destino (Considere apenas pacotes válidos)\" como base para agrupar de acordo com a região, quebrar em 2 partes, ordenar e por fim unir as 2 partes ao estado original;\n",
        "2.  Verifica se pacote é válido, e compara se tem como destino a região Centro-oeste ou norte, se sim imprime dados do pacote.\n",
        " \n",
        "**Para executar este bloco** corretamente é necessário executar os seguintes blocos antes:\n",
        "* 0. Dicionários Pacotes;\n",
        "* 2. Saber quais pacotes possuem códigos de barras válidos e/ou inválidos."
      ],
      "metadata": {
        "id": "aY0Mx8Zt9AIV"
      }
    },
    {
      "cell_type": "code",
      "source": [
        "from collections import OrderedDict\n",
        "\n",
        "# cria dicionario pacAux que não referencia mesmo endereco que dicionario pacotes\n",
        "pacAux = dict(pacotes)\n",
        "\n",
        "# 1. quebra codigo do pacote em 2 partes\n",
        "for chave in pacAux.keys():\n",
        "  if(chave in valido):\n",
        "    pacAux[chave] = pacAux[chave][3:15]+pacAux[chave][0:3]\n",
        "    #print(pacAux[chave])\n",
        "\n",
        "# 1. ordena de acordo com destino\n",
        "pacAux = OrderedDict(sorted(pacAux.items(), key=lambda x: x[1]))\n",
        "\n",
        "# 1. une as 2 partes ao estado original\n",
        "for chave in pacAux.keys():\n",
        "  if(chave in valido):\n",
        "    pacAux[chave] = pacAux[chave][12:15]+pacAux[chave][0:12]\n",
        "    #print(pacAux[chave])\n",
        "\n",
        "# 2. compara se o pacote é valido e tem destino Centro-oeste ou Norte\n",
        "print(\"    PACOTES A SEREM DESPACHADOS NO MESMO CAMINHÃO\")\n",
        "for chave in pacAux.keys():\n",
        "    if(chave in valido):\n",
        "      # centro oeste\n",
        "      if(int(pacAux[chave][3:6])>=201 and int(pacAux[chave][3:6])<=299):\n",
        "        print(\"{}: despachar na Cidade {}, região Centro-Oeste\" .format(str(chave), pacAux[chave][3:6]))\n",
        "      elif(int(pacAux[chave][3:6])>=400 and int(pacAux[chave][3:6])<=499):\n",
        "        print(\"{}: despachar na Cidade {}, região Norte\" .format(str(chave), pacAux[chave][3:6]))\n",
        "      \n",
        "#pacAux.clear()"
      ],
      "metadata": {
        "colab": {
          "base_uri": "https://localhost:8080/"
        },
        "id": "yzpbhtzSv1Aq",
        "outputId": "213e66b4-222b-4f75-9a3b-bcfc8f64d213"
      },
      "execution_count": 104,
      "outputs": [
        {
          "output_type": "stream",
          "name": "stdout",
          "text": [
            "    PACOTES A SEREM DESPACHADOS NO MESMO CAMINHÃO\n",
            "Pacote 11: despachar na Cidade 288, região Centro-Oeste\n",
            "Pacote 17: despachar na Cidade 448, região Norte\n",
            "Pacote 16: despachar na Cidade 488, região Norte\n"
          ]
        }
      ]
    },
    {
      "cell_type": "markdown",
      "source": [
        "## **8.** Se todos os pacotes fossem uma fila qual seria a ordem de carga para o Norte no caminhão para descarregar os pacotes da Região Centro Oeste primeiro;\n",
        "**ideia**:  Pensando como o tipo de estrutura fila, se removeria os pacotes colocados primeiro no veículo, porém como os pacotes estão em um caminhão e supondo que a porta de desembarque seja na traseira, remover os pacotes iniciais pode ser muito trabalhoso. Neste caso os pacotes próximos a porta podem ser mais fáceis de remover, assim usamos uma \"fila inversa\", no qual o primeiro que entra é o último que sai. Assim se insere no caminhão os pacotes de acordo com a ordem de entrega, assim temos a seguinte ordem de embarque:\n",
        "1. Sul          = 100 - 199\n",
        "2. Sudeste      = 001 - 099\n",
        "3. Norte        = 400 - 499\n",
        "4. Nordeste     = 300 - 399\n",
        "5. Centro-oeste = 201 - 299\n",
        " \n",
        "Isso facilita o desembarque dos pacotes. Uma forma de resolver seria criar uma nova estrutura que iria armazenar primeiro todos os produtos válidos do sul, depois sudoeste, até chegar no Centro-oeste, um laço para cada região resolve a tarefa.\n",
        " \n",
        "####**Estrutura programa** \n",
        "1. Cria estrutura e usa um for para cada pacote válido passando dados do sul;\n",
        "2. Usa um for para cada pacote válido passando dados do Sudeste para a estrutura criada;\n",
        "3. Usa um for para cada pacote válido passando dados do Norte para a estrutura criada;\n",
        "4. Usa um for para cada pacote válido passando dados do Nordeste para a estrutura criada;\n",
        "5. Usa um for para cada pacote válido passando dados do Centro-oeste para a estrutura criada;\n",
        "6. imprime ordem de embarque de cada pacote.\n",
        " \n",
        "**Para executar este bloco** corretamente é necessário executar os seguintes blocos antes:\n",
        "* 0. Dicionários Pacotes;\n",
        "* 2. Saber quais pacotes possuem códigos de barras válidos e/ou inválidos."
      ],
      "metadata": {
        "id": "1cSMRDGm_sP_"
      }
    },
    {
      "cell_type": "code",
      "source": [
        "# trabalhar com todos os pacotes \n",
        "dictAux2 = {}\n",
        "\n",
        "# 1. insere sul\n",
        "for chave in pacotes.keys():\n",
        "  if(chave in valido):\n",
        "    if(int(pacotes[chave][3:6])>=100 and int(pacotes[chave][3:6])<=199):\n",
        "      dictAux2[chave] = pacotes[chave]\n",
        "# 2. insere sudoeste\n",
        "for chave in pacotes.keys():\n",
        "  if(chave in valido):\n",
        "    if(int(pacotes[chave][3:6])>=1 and int(pacotes[chave][3:6])<=99):\n",
        "      dictAux2[chave] = pacotes[chave]\n",
        "# 3. insere Norte\n",
        "for chave in pacotes.keys():\n",
        "  if(chave in valido):\n",
        "    if(int(pacotes[chave][3:6])>=400 and int(pacotes[chave][3:6])<=499):\n",
        "      dictAux2[chave] = pacotes[chave]\n",
        "# 4. insere Nordeste\n",
        "for chave in pacotes.keys():\n",
        "  if(chave in valido):\n",
        "    if(int(pacotes[chave][3:6])>=300 and int(pacotes[chave][3:6])<=399):\n",
        "      dictAux2[chave] = pacotes[chave]\n",
        "# 5. insere Centro-oeste\n",
        "for chave in pacotes.keys():\n",
        "  if(chave in valido):\n",
        "    if(int(pacotes[chave][3:6])>=201 and int(pacotes[chave][3:6])<=299):\n",
        "      dictAux2[chave] = pacotes[chave]\n",
        "\n",
        "# 6. imprime ordem de embarque\n",
        "print(\"    ORDEM DE CARGA DO PACOTES NO CAMINHÃO\")\n",
        "for chave in dictAux2.keys():\n",
        "    if(chave in valido):\n",
        "      # centro oeste\n",
        "      if(int(dictAux2[chave][3:6])>=201 and int(dictAux2[chave][3:6])<=299):\n",
        "        print(\"{}: despachar na Cidade {}, região Centro-Oeste\" .format(str(chave), dictAux2[chave][3:6]))\n",
        "      elif(int(dictAux2[chave][3:6])>=300 and int(dictAux2[chave][3:6])<=399):\n",
        "        print(\"{}: despachar na Cidade {}, região Nordeste\" .format(str(chave), dictAux2[chave][3:6]))\n",
        "      elif(int(dictAux2[chave][3:6])>=400 and int(dictAux2[chave][3:6])<=499):\n",
        "        print(\"{}: despachar na Cidade {}, região Norte\" .format(str(chave), dictAux2[chave][3:6]))\n",
        "      elif(int(dictAux2[chave][3:6])>=1 and int(dictAux2[chave][3:6])<=99):\n",
        "        print(\"{}: despachar na Cidade {}, região Sudeste\" .format(str(chave), dictAux2[chave][3:6]))\n",
        "      elif(int(dictAux2[chave][3:6])>=100 and int(dictAux2[chave][3:6])<=199):\n",
        "        print(\"{}: despachar na Cidade {}, região Sul\" .format(str(chave), dictAux2[chave][3:6]))\n",
        "\n",
        "#dictAux2.clear()"
      ],
      "metadata": {
        "colab": {
          "base_uri": "https://localhost:8080/"
        },
        "id": "MnCY73HYI_Q2",
        "outputId": "f04024bb-b212-4404-cc4c-266e428420f3"
      },
      "execution_count": 105,
      "outputs": [
        {
          "output_type": "stream",
          "name": "stdout",
          "text": [
            "    ORDEM DE CARGA DO PACOTES NO CAMINHÃO\n",
            "Pacote 4: despachar na Cidade 111, região Sul\n",
            "Pacote 10: despachar na Cidade 188, região Sul\n",
            "Pacote 7: despachar na Cidade 055, região Sudeste\n",
            "Pacote 19: despachar na Cidade 044, região Sudeste\n",
            "Pacote 16: despachar na Cidade 488, região Norte\n",
            "Pacote 17: despachar na Cidade 448, região Norte\n",
            "Pacote 1: despachar na Cidade 355, região Nordeste\n",
            "Pacote 2: despachar na Cidade 333, região Nordeste\n",
            "Pacote 6: despachar na Cidade 333, região Nordeste\n",
            "Pacote 8: despachar na Cidade 333, região Nordeste\n",
            "Pacote 9: despachar na Cidade 333, região Nordeste\n",
            "Pacote 12: despachar na Cidade 388, região Nordeste\n",
            "Pacote 14: despachar na Cidade 311, região Nordeste\n",
            "Pacote 15: despachar na Cidade 333, região Nordeste\n",
            "Pacote 18: despachar na Cidade 388, região Nordeste\n",
            "Pacote 20: despachar na Cidade 311, região Nordeste\n",
            "Pacote 11: despachar na Cidade 288, região Centro-Oeste\n"
          ]
        }
      ]
    },
    {
      "cell_type": "markdown",
      "source": [
        "## **9.** No item acima considerar que as jóias fossem sempre as primeiras a serem descarregadas;\n",
        "**ideia**: Mesma base da ideia da questão \"8. Se todos os pacotes fossem uma fila qual seria a ordem de carga para o Norte no  para descarregar os pacotes da Região Centro Oeste primeiro\", porém neste caso as joias devem ser\n",
        "descarregadas antes dos demais pacotes de uma dada região. Para isso basta copiar para uma nova estrutura se todos os produtos com  a uma região que não são jóias, em seguida se todos os pacotes daquela mesma região que tem jóia em seu conteúdo e se repete o mesmo processo para todas as regiões.\n",
        " \n",
        "####**Estrutura programa** \n",
        "1. Cria estrutura e usa 2 laços para cada pacote válido do Sul, o primeiro laço passa pacotes sem jóia para a estrutura em seguida o outro laço passa pacotes com jóia para a estrutura;\n",
        "2. Usa 2 laços para cada pacote válido do Sudeste, o primeiro laço passa pacotes sem jóia para a estrutura em seguida o outro laço passa pacotes com jóia para a estrutura;\n",
        "3. Usa 2 laços para cada pacote válido do Norte, o primeiro laço passa pacotes sem jóia para a estrutura em seguida o outro laço passa pacotes com jóia para a estrutura;\n",
        "4. Usa 2 laços para cada pacote válido do Nordeste, o primeiro laço passa pacotes sem jóia para a estrutura em seguida o outro laço passa pacotes com jóia para a estrutura;\n",
        "5. Usa 2 laços para cada pacote válido do Centro-oeste, o primeiro laço passa pacotes sem jóia para a estrutura em seguida o outro laço passa pacotes com jóia para a estrutura;\n",
        "6. imprime ordem de embarque de tal forma que priorize o desembarque das jóias em cada região.\n",
        " \n",
        "**Para executar este bloco** corretamente é necessário executar os seguintes blocos antes:\n",
        "* 0. Dicionários Pacotes;\n",
        "* 2. Saber quais pacotes possuem códigos de barras válidos e/ou inválidos."
      ],
      "metadata": {
        "id": "dKPxmF8kEKws"
      }
    },
    {
      "cell_type": "code",
      "source": [
        "dictAux = {}\n",
        "\n",
        "# 1. insere sul não joias\n",
        "for chave in pacotes.keys():\n",
        "  if(chave in valido):\n",
        "    if(int(pacotes[chave][12:15]) != 1 and (int(pacotes[chave][3:6])>=100 and int(pacotes[chave][3:6])<=199)):\n",
        "      dictAux[chave] = pacotes[chave]\n",
        "# 1. insere sul  joias\n",
        "for chave in pacotes.keys():\n",
        "  if(chave in valido):\n",
        "    if(int(pacotes[chave][12:15]) == 1 and (int(pacotes[chave][3:6])>=100 and int(pacotes[chave][3:6])<=199)):\n",
        "      dictAux[chave] = pacotes[chave]\n",
        "\n",
        "# 2. insere sudoeste não joias\n",
        "for chave in pacotes.keys():\n",
        "  if(chave in valido):\n",
        "    if(int(pacotes[chave][12:15]) != 1 and (int(pacotes[chave][3:6])>=1 and int(pacotes[chave][3:6])<=99)):\n",
        "      dictAux[chave] = pacotes[chave]\n",
        "# 2. insere sudoeste joias\n",
        "for chave in pacotes.keys():\n",
        "  if(chave in valido):\n",
        "    if(int(pacotes[chave][12:15]) == 1 and (int(pacotes[chave][3:6])>=1 and int(pacotes[chave][3:6])<=99)):\n",
        "      dictAux[chave] = pacotes[chave]\n",
        "\n",
        "# 3. insere Norte não joias\n",
        "for chave in pacotes.keys():\n",
        "  if(chave in valido):\n",
        "    if(int(pacotes[chave][12:15]) != 1 and (int(pacotes[chave][3:6])>=400 and int(pacotes[chave][3:6])<=499)):\n",
        "      dictAux[chave] = pacotes[chave]\n",
        "# 3. insere Norte joias\n",
        "for chave in pacotes.keys():\n",
        "  if(chave in valido):\n",
        "    if(int(pacotes[chave][12:15]) == 1 and (int(pacotes[chave][3:6])>=400 and int(pacotes[chave][3:6])<=499)):\n",
        "      dictAux[chave] = pacotes[chave]\n",
        "\n",
        "# 4. insere Nordeste não joias\n",
        "for chave in pacotes.keys():\n",
        "  if(chave in valido):\n",
        "    if(int(pacotes[chave][12:15]) != 1 and (int(pacotes[chave][3:6])>=300 and int(pacotes[chave][3:6])<=399)):\n",
        "      dictAux[chave] = pacotes[chave]\n",
        "# 4. insere Nordeste  joias\n",
        "for chave in pacotes.keys():\n",
        "  if(chave in valido):\n",
        "    if(int(pacotes[chave][12:15]) == 1 and (int(pacotes[chave][3:6])>=300 and int(pacotes[chave][3:6])<=399)):\n",
        "      dictAux[chave] = pacotes[chave]\n",
        "\n",
        "# 5. insere Centro-oeste não joias\n",
        "for chave in pacotes.keys():\n",
        "  if(chave in valido):\n",
        "    if(int(pacotes[chave][12:15]) != 1 and (int(pacotes[chave][3:6])>=201 and int(pacotes[chave][3:6])<=299)):\n",
        "      dictAux[chave] = pacotes[chave]\n",
        "# 5. insere Centro-oeste joias\n",
        "for chave in pacotes.keys():\n",
        "  if(chave in valido):\n",
        "    if(int(pacotes[chave][12:15]) == 1 and (int(pacotes[chave][3:6])>=201 and int(pacotes[chave][3:6])<=299)):\n",
        "      dictAux[chave] = pacotes[chave]\n",
        "\n",
        "# imprime pacotes priorizando desembarque de jóias\n",
        "print(\"    ORDEM DE CARGA DO PACOTES NO CAMINHÃO\")\n",
        "for chave in dictAux.keys():\n",
        "    if(chave in valido):\n",
        "      # centro oeste\n",
        "      if(int(dictAux[chave][3:6])>=201 and int(dictAux[chave][3:6])<=299):\n",
        "        if(int(dictAux[chave][12:15]) == 1):\n",
        "          print(\"{}: despachar na Cidade {}, região Centro-Oeste (JÓIA)\" .format(str(chave), dictAux[chave][3:6]))\n",
        "        else:\n",
        "          print(\"{}: despachar na Cidade {}, região Centro-Oeste\" .format(str(chave), dictAux[chave][3:6]))\n",
        "      # nordeste\n",
        "      elif(int(dictAux[chave][3:6])>=300 and int(dictAux[chave][3:6])<=399):\n",
        "        if(int(dictAux[chave][12:15]) == 1):\n",
        "          print(\"{}: despachar na Cidade {}, região Nordeste (JÓIA)\" .format(str(chave), dictAux[chave][3:6]))\n",
        "        else:\n",
        "          print(\"{}: despachar na Cidade {}, região Nordeste\" .format(str(chave), dictAux[chave][3:6]))\n",
        "      # norte\n",
        "      elif(int(dictAux[chave][3:6])>=400 and int(dictAux[chave][3:6])<=499):\n",
        "        if(int(dictAux[chave][12:15]) == 1):\n",
        "          print(\"{}: despachar na Cidade {}, região Norte (JÓIA)\" .format(str(chave), dictAux[chave][3:6]))\n",
        "        else:\n",
        "          print(\"{}: despachar na Cidade {}, região Norte\" .format(str(chave), dictAux[chave][3:6]))\n",
        "      # sudoeste\n",
        "      elif(int(dictAux[chave][3:6])>=1 and int(dictAux[chave][3:6])<=99):\n",
        "        if(int(dictAux[chave][12:15]) == 1):\n",
        "          print(\"{}: despachar na Cidade {}, região Sudeste (JÓIA)\" .format(str(chave), dictAux[chave][3:6]))\n",
        "        else:\n",
        "          print(\"{}: despachar na Cidade {}, região Sudeste\" .format(str(chave), dictAux[chave][3:6]))\n",
        "      # sul\n",
        "      elif(int(dictAux[chave][3:6])>=100 and int(dictAux[chave][3:6])<=199):\n",
        "        if(int(dictAux[chave][12:15]) == 1):\n",
        "          print(\"{}: despachar na Cidade {}, região Sul (JÓIA)\" .format(str(chave), dictAux[chave][3:6]))\n",
        "        else:\n",
        "          print(\"{}: despachar na Cidade {}, região Sul\" .format(str(chave), dictAux[chave][3:6]))"
      ],
      "metadata": {
        "colab": {
          "base_uri": "https://localhost:8080/"
        },
        "id": "zMcXY6oUYHHg",
        "outputId": "25cb747f-d744-4f48-d90b-0cf0d36fd3fb"
      },
      "execution_count": 106,
      "outputs": [
        {
          "output_type": "stream",
          "name": "stdout",
          "text": [
            "    ORDEM DE CARGA DO PACOTES NO CAMINHÃO\n",
            "Pacote 4: despachar na Cidade 111, região Sul\n",
            "Pacote 10: despachar na Cidade 188, região Sul\n",
            "Pacote 7: despachar na Cidade 055, região Sudeste\n",
            "Pacote 19: despachar na Cidade 044, região Sudeste\n",
            "Pacote 16: despachar na Cidade 488, região Norte\n",
            "Pacote 17: despachar na Cidade 448, região Norte (JÓIA)\n",
            "Pacote 1: despachar na Cidade 355, região Nordeste\n",
            "Pacote 2: despachar na Cidade 333, região Nordeste\n",
            "Pacote 6: despachar na Cidade 333, região Nordeste\n",
            "Pacote 8: despachar na Cidade 333, região Nordeste\n",
            "Pacote 12: despachar na Cidade 388, região Nordeste\n",
            "Pacote 15: despachar na Cidade 333, região Nordeste\n",
            "Pacote 18: despachar na Cidade 388, região Nordeste\n",
            "Pacote 9: despachar na Cidade 333, região Nordeste (JÓIA)\n",
            "Pacote 14: despachar na Cidade 311, região Nordeste (JÓIA)\n",
            "Pacote 20: despachar na Cidade 311, região Nordeste (JÓIA)\n",
            "Pacote 11: despachar na Cidade 288, região Centro-Oeste (JÓIA)\n"
          ]
        }
      ]
    },
    {
      "cell_type": "markdown",
      "source": [
        "## **10.** Listar os pacotes inválidos.\n",
        "**ideia**: Comparar os pacotes com todas as restrições e adicionar em uma lista a causa caso haja alguma restrição para aquele pacote, por fim associa essa lista com o pacote invalido e imprime na tela os dados do pacote e a causa.\n",
        " \n",
        "####**Estrutura programa** \n",
        "1. Compara se tamanho do código é diferente de 15;\n",
        "2. Compara se jóias tem como região de origem o Centro-oeste;\n",
        "3. O vendedor 367 é invalido;\n",
        "4. Verifica se produto é válido;\n",
        "5. Verifica se região origem é válida;\n",
        "6. Verifica se região destino é válida;\n",
        "7. Armazena pacote e com ele associa a causa do erro;\n",
        "8. Imprime pacotes inválidos.\n",
        " \n",
        "**Para executar este bloco** corretamente é necessário executar os seguintes blocos antes:\n",
        "* 0. Dicionários Pacotes;\n",
        "* 2. Saber quais pacotes possuem códigos de barras válidos e/ou inválidos."
      ],
      "metadata": {
        "id": "jBXp3bWWEkYX"
      }
    },
    {
      "cell_type": "code",
      "source": [
        "dicInvalido = {}\n",
        "causaErro = []\n",
        "for chave in pacotes.keys():\n",
        "  # print(pacotes[chave])\n",
        "  \n",
        "  if(chave in invalido):\n",
        "    # 1. compara se tamanho do código é diferente de 15\n",
        "    if( len(pacotes[chave]) != 15):\n",
        "      causaErro.append(\"código diferente de 15 digitos\")\n",
        "\n",
        "    # 2. compara se jóias tem como região de origem o Centro-oeste\n",
        "    if((int(pacotes[chave][12:15]) == 1) and \n",
        "        (int(pacotes[chave][0:3])>=201 and int(pacotes[chave][0:3])<=299) ): \n",
        "      causaErro.append(\"não é permitido jóias tendo como origem o Centro-oeste\")\n",
        "    \n",
        "    # 3. o vendedor 367 é invalido\n",
        "    if(int(pacotes[chave][9:12]) == 367): \n",
        "      causaErro.append(\"vendedor 367 está inativo\")\n",
        "    \n",
        "    # 4. verifica se produto é valido\n",
        "    if( (int(pacotes[chave][12:15]) != 1 and int(pacotes[chave][12:15]) != 111 and\n",
        "        int(pacotes[chave][12:15]) != 333 and int(pacotes[chave][12:15]) != 555 and\n",
        "        int(pacotes[chave][12:15]) != 888) ):\n",
        "      causaErro.append(\"tipo de produto invalido\")\n",
        "    \n",
        "    # 5. verifica se região origem é valida\n",
        "    if( (int(pacotes[chave][0:3]) == 0) or (int(pacotes[chave][0:3]) == 200) \n",
        "        or (int(pacotes[chave][0:3]) >= 500 and int(pacotes[chave][0:3]) <= 999) ):\n",
        "      causaErro.append(\"região de origem invalida\")\n",
        "    \n",
        "    # 6. verifica se região destino é valida\n",
        "    if( (int(pacotes[chave][3:6]) == 0) or (int(pacotes[chave][3:6]) == 200) \n",
        "        or (int(pacotes[chave][3:6]) >= 500 and int(pacotes[chave][3:6]) <= 999) ):\n",
        "      causaErro.append(\"região de destino invalida\")\n",
        "\n",
        "    # 7. armazena pacote e causa do erro  \n",
        "    dicInvalido[chave] = list(causaErro)\n",
        "    causaErro.clear()\n",
        "\n",
        "# 8. imprime pacotes invalidos\n",
        "for chave in dicInvalido.keys():\n",
        "  if(chave in invalido):\n",
        "    print(\"{}: erro {}\" .format(str(chave), dicInvalido[chave]))"
      ],
      "metadata": {
        "colab": {
          "base_uri": "https://localhost:8080/"
        },
        "id": "oBSv2ZMVEjwS",
        "outputId": "a5b782db-98c2-44d9-ff2b-62528afb598b"
      },
      "execution_count": 107,
      "outputs": [
        {
          "output_type": "stream",
          "name": "stdout",
          "text": [
            "Pacote 3: erro ['não é permitido jóias tendo como origem o Centro-oeste']\n",
            "Pacote 5: erro ['tipo de produto invalido']\n",
            "Pacote 13: erro ['vendedor 367 está inativo', 'região de destino invalida']\n"
          ]
        }
      ]
    }
  ]
}